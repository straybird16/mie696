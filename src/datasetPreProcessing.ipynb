{
 "cells": [
  {
   "cell_type": "code",
   "execution_count": 1,
   "metadata": {},
   "outputs": [],
   "source": [
    "%load_ext autoreload\n",
    "%reload_ext autoreload\n",
    "%autoreload 2\n",
    "\n",
    "import numpy as np\n",
    "import pandas as pd\n",
    "from sklearn.preprocessing import OneHotEncoder, OrdinalEncoder\n",
    "from sklearn.compose import make_column_transformer, ColumnTransformer"
   ]
  },
  {
   "cell_type": "code",
   "execution_count": 119,
   "metadata": {},
   "outputs": [
    {
     "name": "stdout",
     "output_type": "stream",
     "text": [
      "['0.202713' '192.168.43.186' '192.168.43.1' 'DNS' '85']\n",
      "<class 'numpy.ndarray'>\n",
      "[['0.0' '0.0' '0.0' ... '0.0' '0.202713' '85']\n",
      " ['0.0' '0.0' '0.0' ... '0.0' '0.431963' '144']\n",
      " ['0.0' '0.0' '0.0' ... '0.0' '0.433064' '58']\n",
      " ...\n",
      " ['0.0' '0.0' '0.0' ... '0.0' '10101.75161' '54']\n",
      " ['0.0' '0.0' '0.0' ... '0.0' '10101.75184' '54']\n",
      " ['0.0' '0.0' '0.0' ... '0.0' '10101.75196' '54']]\n",
      "\n"
     ]
    }
   ],
   "source": [
    "ohe = OneHotEncoder(categories='auto', handle_unknown='infrequent_if_exist', dtype=np.float64, sparse_output=False)\n",
    "oe = OrdinalEncoder()\n",
    "column_transformer = ColumnTransformer(\n",
    "    #(ohe, ['Source', 'Destination', 'Protocol']),\n",
    "    transformers=[(\"ohe\", ohe, [1,2,3])],\n",
    "    remainder='passthrough'\n",
    ")\n",
    "fname = 'ECU_IoHT'\n",
    "\n",
    "raw_data = np.loadtxt('../data/' + fname + '_regular_data.csv', dtype=str, delimiter=',', skiprows=1)[:,:-1]\n",
    "\n",
    "\n",
    "#raw_data = pd.read_csv('../data/' + fname + '_regular_data.csv', dtype=str,delimiter=',')\n",
    "#l = (raw_data.loc[0])\n",
    "#print(l)\n",
    "#raw_data = pd.DataFrame(raw_data, dtype=str)\n",
    "#labels = raw_data['Type']\n",
    "\n",
    "#raw_data.drop('Type', axis=1, inplace=True)\n",
    "#print(raw_data.loc[0], '\\n')\n",
    "print(raw_data[0])\n",
    "scaled_data = column_transformer.fit_transform(raw_data)\n",
    "print(type(scaled_data))\n",
    "print(np.float64(scaled_data))\n",
    "raw_data = pd.DataFrame(scaled_data)\n",
    "#print(raw_data.shape)\n",
    "\n",
    "#print(type(labels))\n",
    "#raw_data['Type'] = labels\n",
    "#print(raw_data.loc[0], '\\n')\n",
    "#print(raw_data)\n",
    "#print(raw_data.loc[0])\n",
    "\n",
    "\"\"\" idc = [i for i in range(l) if i not in (0, 1, 2, 3, l-2)]\n",
    "raw_data = raw_data[:,idc]\n",
    "#np.savetxt('../data/iiot.csv', X=raw_data, delimiter=',', fmt='%s')\n",
    "\n",
    "idc = np.int32(raw_data[1:,-1]) == 1\n",
    "idc = np.append(True, idc)\n",
    "idc.shape\n",
    "idc.sum()\n",
    "np.savetxt('../data/iiot_attack_data.csv', X=raw_data[idc], delimiter=',', fmt='%s') \"\"\"\n",
    "print()"
   ]
  },
  {
   "cell_type": "code",
   "execution_count": 4,
   "metadata": {},
   "outputs": [
    {
     "name": "stdout",
     "output_type": "stream",
     "text": [
      "(494022, 36)\n",
      "(494022,)\n",
      "396744\n"
     ]
    }
   ],
   "source": [
    "if True:\n",
    "    #fname = 'TON_IoT'\n",
    "    fname = 'KDD_10'\n",
    "    raw_data = np.genfromtxt('../data/' + fname +'.csv', dtype=str, delimiter=',')\n",
    "    print(raw_data.shape)\n",
    "    idc = raw_data[1:,-1] == 'normal.'\n",
    "    idc = np.append(True, idc)\n",
    "    print(idc.shape)\n",
    "    print(idc.sum())\n",
    "    #np.savetxt('../data/'+ fname + '_regular_data.csv', X=raw_data[idc], delimiter=',', fmt='%s')"
   ]
  },
  {
   "cell_type": "code",
   "execution_count": 6,
   "metadata": {},
   "outputs": [
    {
     "data": {
      "text/plain": [
       "(494022, 42)"
      ]
     },
     "execution_count": 6,
     "metadata": {},
     "output_type": "execute_result"
    }
   ],
   "source": [
    "\"\"\" features = np.array([['duration','protocol_type','service','flag','src_bytes','dst_bytes','land','wrong_fragment','urgent','hot','num_failed_logins','logged_in','num_compromised','root_shell','su_attempted','num_root','num_file_creations','num_shells','num_access_files','num_outbound_cmds','is_host_login','is_guest_login','count','srv_count','serror_rate','srv_serror_rate','rerror_rate','srv_rerror_rate','same_srv_rate','diff_srv_rate','srv_diff_host_rate','dst_host_count','dst_host_srv_count','dst_host_same_srv_rate','dst_host_diff_srv_rate','dst_host_same_src_port_rate','dst_host_srv_diff_host_rate','dst_host_serror_rate','dst_host_srv_serror_rate','dst_host_rerror_rate','dst_host_srv_rerror_rate','label']])\n",
    "raw_data = np.concatenate((features, raw_data), axis=0)\n",
    "raw_data.shape \"\"\""
   ]
  },
  {
   "cell_type": "code",
   "execution_count": 7,
   "metadata": {},
   "outputs": [],
   "source": [
    "#np.savetxt('../data/'+ fname + '.csv', X=raw_data, delimiter=',', fmt='%s')"
   ]
  }
 ],
 "metadata": {
  "kernelspec": {
   "display_name": ".venv",
   "language": "python",
   "name": "python3"
  },
  "language_info": {
   "codemirror_mode": {
    "name": "ipython",
    "version": 3
   },
   "file_extension": ".py",
   "mimetype": "text/x-python",
   "name": "python",
   "nbconvert_exporter": "python",
   "pygments_lexer": "ipython3",
   "version": "3.9.7"
  },
  "orig_nbformat": 4
 },
 "nbformat": 4,
 "nbformat_minor": 2
}
