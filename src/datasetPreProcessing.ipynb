{
 "cells": [
  {
   "cell_type": "code",
   "execution_count": 2,
   "metadata": {},
   "outputs": [],
   "source": [
    "%load_ext autoreload\n",
    "%reload_ext autoreload\n",
    "%autoreload 2\n",
    "\n",
    "import numpy as np\n",
    "import pandas as pd\n",
    "from sklearn.preprocessing import OneHotEncoder, OrdinalEncoder\n",
    "from sklearn.compose import make_column_transformer, ColumnTransformer"
   ]
  },
  {
   "cell_type": "code",
   "execution_count": 119,
   "metadata": {},
   "outputs": [
    {
     "name": "stdout",
     "output_type": "stream",
     "text": [
      "['0.202713' '192.168.43.186' '192.168.43.1' 'DNS' '85']\n",
      "<class 'numpy.ndarray'>\n",
      "[['0.0' '0.0' '0.0' ... '0.0' '0.202713' '85']\n",
      " ['0.0' '0.0' '0.0' ... '0.0' '0.431963' '144']\n",
      " ['0.0' '0.0' '0.0' ... '0.0' '0.433064' '58']\n",
      " ...\n",
      " ['0.0' '0.0' '0.0' ... '0.0' '10101.75161' '54']\n",
      " ['0.0' '0.0' '0.0' ... '0.0' '10101.75184' '54']\n",
      " ['0.0' '0.0' '0.0' ... '0.0' '10101.75196' '54']]\n",
      "\n"
     ]
    }
   ],
   "source": [
    "ohe = OneHotEncoder(categories='auto', handle_unknown='infrequent_if_exist', dtype=np.float64, sparse_output=False)\n",
    "oe = OrdinalEncoder()\n",
    "column_transformer = ColumnTransformer(\n",
    "    #(ohe, ['Source', 'Destination', 'Protocol']),\n",
    "    transformers=[(\"ohe\", ohe, [1,2,3])],\n",
    "    remainder='passthrough'\n",
    ")\n",
    "fname = 'ECU_IoHT'\n",
    "\n",
    "raw_data = np.loadtxt('../data/' + fname + '_regular_data.csv', dtype=str, delimiter=',', skiprows=1)[:,:-1]\n",
    "\n",
    "\n",
    "#raw_data = pd.read_csv('../data/' + fname + '_regular_data.csv', dtype=str,delimiter=',')\n",
    "#l = (raw_data.loc[0])\n",
    "#print(l)\n",
    "#raw_data = pd.DataFrame(raw_data, dtype=str)\n",
    "#labels = raw_data['Type']\n",
    "\n",
    "#raw_data.drop('Type', axis=1, inplace=True)\n",
    "#print(raw_data.loc[0], '\\n')\n",
    "print(raw_data[0])\n",
    "scaled_data = column_transformer.fit_transform(raw_data)\n",
    "print(type(scaled_data))\n",
    "print(np.float64(scaled_data))\n",
    "raw_data = pd.DataFrame(scaled_data)\n",
    "#print(raw_data.shape)\n",
    "\n",
    "#print(type(labels))\n",
    "#raw_data['Type'] = labels\n",
    "#print(raw_data.loc[0], '\\n')\n",
    "#print(raw_data)\n",
    "#print(raw_data.loc[0])\n",
    "\n",
    "\"\"\" idc = [i for i in range(l) if i not in (0, 1, 2, 3, l-2)]\n",
    "raw_data = raw_data[:,idc]\n",
    "#np.savetxt('../data/iiot.csv', X=raw_data, delimiter=',', fmt='%s')\n",
    "\n",
    "idc = np.int32(raw_data[1:,-1]) == 1\n",
    "idc = np.append(True, idc)\n",
    "idc.shape\n",
    "idc.sum()\n",
    "np.savetxt('../data/iiot_attack_data.csv', X=raw_data[idc], delimiter=',', fmt='%s') \"\"\"\n",
    "print()"
   ]
  },
  {
   "cell_type": "code",
   "execution_count": 8,
   "metadata": {},
   "outputs": [
    {
     "name": "stdout",
     "output_type": "stream",
     "text": [
      "(461044, 20)\n",
      "['label' '0' '0' ... '1' '1' '1']\n",
      "(461044,)\n",
      "300001\n"
     ]
    },
    {
     "ename": "",
     "evalue": "",
     "output_type": "error",
     "traceback": [
      "\u001b[1;31mThe Kernel crashed while executing code in the the current cell or a previous cell. Please review the code in the cell(s) to identify a possible cause of the failure. Click <a href='https://aka.ms/vscodeJupyterKernelCrash'>here</a> for more info. View Jupyter <a href='command:jupyter.viewOutput'>log</a> for further details."
     ]
    }
   ],
   "source": [
    "if True:\n",
    "    fname = 'TON_IoT'\n",
    "    raw_data = np.genfromtxt('../data/' + fname +'.csv', dtype=str, delimiter=',')\n",
    "    print(raw_data.shape)\n",
    "    print(raw_data[:,-2])\n",
    "    idc = raw_data[1:,-2] != '1'\n",
    "    idc = np.append(True, idc)\n",
    "    print(idc.shape)\n",
    "    print(idc.sum())\n",
    "    #np.savetxt('../data/'+ fname + '_regular_data.csv', X=raw_data[idc], delimiter=',', fmt='%s')"
   ]
  }
 ],
 "metadata": {
  "kernelspec": {
   "display_name": ".venv",
   "language": "python",
   "name": "python3"
  },
  "language_info": {
   "codemirror_mode": {
    "name": "ipython",
    "version": 3
   },
   "file_extension": ".py",
   "mimetype": "text/x-python",
   "name": "python",
   "nbconvert_exporter": "python",
   "pygments_lexer": "ipython3",
   "version": "3.9.7"
  },
  "orig_nbformat": 4
 },
 "nbformat": 4,
 "nbformat_minor": 2
}
